{
 "cells": [
  {
   "metadata": {
    "ExecuteTime": {
     "end_time": "2024-11-08T00:52:40.114314Z",
     "start_time": "2024-11-08T00:52:39.396453Z"
    }
   },
   "cell_type": "code",
   "source": "import pandas as pd",
   "id": "93bfae726eceb90b",
   "outputs": [],
   "execution_count": 1
  },
  {
   "metadata": {
    "ExecuteTime": {
     "end_time": "2024-11-08T00:52:42.813538Z",
     "start_time": "2024-11-08T00:52:41.890453Z"
    }
   },
   "cell_type": "code",
   "source": "!pip install pyvespa",
   "id": "711f859256b672b1",
   "outputs": [
    {
     "name": "stdout",
     "output_type": "stream",
     "text": [
      "Requirement already satisfied: pyvespa in ./.venv/lib/python3.8/site-packages (0.50.0)\r\n",
      "Requirement already satisfied: requests in ./.venv/lib/python3.8/site-packages (from pyvespa) (2.32.3)\r\n",
      "Requirement already satisfied: requests-toolbelt in ./.venv/lib/python3.8/site-packages (from pyvespa) (1.0.0)\r\n",
      "Requirement already satisfied: docker in ./.venv/lib/python3.8/site-packages (from pyvespa) (7.1.0)\r\n",
      "Requirement already satisfied: jinja2 in ./.venv/lib/python3.8/site-packages (from pyvespa) (3.1.4)\r\n",
      "Requirement already satisfied: cryptography in ./.venv/lib/python3.8/site-packages (from pyvespa) (43.0.3)\r\n",
      "Requirement already satisfied: aiohttp in ./.venv/lib/python3.8/site-packages (from pyvespa) (3.10.10)\r\n",
      "Requirement already satisfied: httpx[http2] in ./.venv/lib/python3.8/site-packages (from pyvespa) (0.27.2)\r\n",
      "Requirement already satisfied: tenacity>=8.4.1 in ./.venv/lib/python3.8/site-packages (from pyvespa) (9.0.0)\r\n",
      "Requirement already satisfied: typing-extensions in ./.venv/lib/python3.8/site-packages (from pyvespa) (4.12.2)\r\n",
      "Requirement already satisfied: python-dateutil in ./.venv/lib/python3.8/site-packages (from pyvespa) (2.9.0.post0)\r\n",
      "Requirement already satisfied: fastcore>=1.7.8 in ./.venv/lib/python3.8/site-packages (from pyvespa) (1.7.19)\r\n",
      "Requirement already satisfied: lxml in ./.venv/lib/python3.8/site-packages (from pyvespa) (5.3.0)\r\n",
      "Requirement already satisfied: packaging in ./.venv/lib/python3.8/site-packages (from fastcore>=1.7.8->pyvespa) (24.1)\r\n",
      "Requirement already satisfied: aiohappyeyeballs>=2.3.0 in ./.venv/lib/python3.8/site-packages (from aiohttp->pyvespa) (2.4.3)\r\n",
      "Requirement already satisfied: aiosignal>=1.1.2 in ./.venv/lib/python3.8/site-packages (from aiohttp->pyvespa) (1.3.1)\r\n",
      "Requirement already satisfied: attrs>=17.3.0 in ./.venv/lib/python3.8/site-packages (from aiohttp->pyvespa) (24.2.0)\r\n",
      "Requirement already satisfied: frozenlist>=1.1.1 in ./.venv/lib/python3.8/site-packages (from aiohttp->pyvespa) (1.5.0)\r\n",
      "Requirement already satisfied: multidict<7.0,>=4.5 in ./.venv/lib/python3.8/site-packages (from aiohttp->pyvespa) (6.1.0)\r\n",
      "Requirement already satisfied: yarl<2.0,>=1.12.0 in ./.venv/lib/python3.8/site-packages (from aiohttp->pyvespa) (1.15.2)\r\n",
      "Requirement already satisfied: async-timeout<5.0,>=4.0 in ./.venv/lib/python3.8/site-packages (from aiohttp->pyvespa) (4.0.3)\r\n",
      "Requirement already satisfied: cffi>=1.12 in ./.venv/lib/python3.8/site-packages (from cryptography->pyvespa) (1.17.1)\r\n",
      "Requirement already satisfied: urllib3>=1.26.0 in ./.venv/lib/python3.8/site-packages (from docker->pyvespa) (2.2.3)\r\n",
      "Requirement already satisfied: charset-normalizer<4,>=2 in ./.venv/lib/python3.8/site-packages (from requests->pyvespa) (3.4.0)\r\n",
      "Requirement already satisfied: idna<4,>=2.5 in ./.venv/lib/python3.8/site-packages (from requests->pyvespa) (3.10)\r\n",
      "Requirement already satisfied: certifi>=2017.4.17 in ./.venv/lib/python3.8/site-packages (from requests->pyvespa) (2024.8.30)\r\n",
      "Requirement already satisfied: anyio in ./.venv/lib/python3.8/site-packages (from httpx[http2]->pyvespa) (4.5.2)\r\n",
      "Requirement already satisfied: httpcore==1.* in ./.venv/lib/python3.8/site-packages (from httpx[http2]->pyvespa) (1.0.6)\r\n",
      "Requirement already satisfied: sniffio in ./.venv/lib/python3.8/site-packages (from httpx[http2]->pyvespa) (1.3.1)\r\n",
      "Requirement already satisfied: h2<5,>=3 in ./.venv/lib/python3.8/site-packages (from httpx[http2]->pyvespa) (4.1.0)\r\n",
      "Requirement already satisfied: h11<0.15,>=0.13 in ./.venv/lib/python3.8/site-packages (from httpcore==1.*->httpx[http2]->pyvespa) (0.14.0)\r\n",
      "Requirement already satisfied: MarkupSafe>=2.0 in ./.venv/lib/python3.8/site-packages (from jinja2->pyvespa) (2.1.5)\r\n",
      "Requirement already satisfied: six>=1.5 in ./.venv/lib/python3.8/site-packages (from python-dateutil->pyvespa) (1.16.0)\r\n",
      "Requirement already satisfied: pycparser in ./.venv/lib/python3.8/site-packages (from cffi>=1.12->cryptography->pyvespa) (2.22)\r\n",
      "Requirement already satisfied: hyperframe<7,>=6.0 in ./.venv/lib/python3.8/site-packages (from h2<5,>=3->httpx[http2]->pyvespa) (6.0.1)\r\n",
      "Requirement already satisfied: hpack<5,>=4.0 in ./.venv/lib/python3.8/site-packages (from h2<5,>=3->httpx[http2]->pyvespa) (4.0.0)\r\n",
      "Requirement already satisfied: propcache>=0.2.0 in ./.venv/lib/python3.8/site-packages (from yarl<2.0,>=1.12.0->aiohttp->pyvespa) (0.2.0)\r\n",
      "Requirement already satisfied: exceptiongroup>=1.0.2 in ./.venv/lib/python3.8/site-packages (from anyio->httpx[http2]->pyvespa) (1.2.2)\r\n"
     ]
    }
   ],
   "execution_count": 2
  },
  {
   "metadata": {
    "ExecuteTime": {
     "end_time": "2024-11-08T00:52:47.095140Z",
     "start_time": "2024-11-08T00:52:45.974604Z"
    }
   },
   "cell_type": "code",
   "source": [
    "from vespa.application import Vespa\n",
    "from vespa.io import VespaResponse, VespaQueryResponse"
   ],
   "id": "2fe64f6a05b73c83",
   "outputs": [
    {
     "ename": "ImportError",
     "evalue": "dlopen(/Users/mrcyrilgoud/Downloads/tmbd_process/.venv/lib/python3.8/site-packages/lxml/etree.cpython-38-darwin.so, 0x0002): Library not loaded: @rpath/libxslt.1.dylib\n  Referenced from: <360AD13F-EECC-3A60-BD24-7DA0864319BE> /Users/mrcyrilgoud/Downloads/tmbd_process/.venv/lib/python3.8/site-packages/lxml/etree.cpython-38-darwin.so\n  Reason: no LC_RPATH's found",
     "output_type": "error",
     "traceback": [
      "\u001B[0;31m---------------------------------------------------------------------------\u001B[0m",
      "\u001B[0;31mImportError\u001B[0m                               Traceback (most recent call last)",
      "Cell \u001B[0;32mIn[3], line 1\u001B[0m\n\u001B[0;32m----> 1\u001B[0m \u001B[38;5;28;01mfrom\u001B[39;00m \u001B[38;5;21;01mvespa\u001B[39;00m\u001B[38;5;21;01m.\u001B[39;00m\u001B[38;5;21;01mapplication\u001B[39;00m \u001B[38;5;28;01mimport\u001B[39;00m Vespa\n\u001B[1;32m      2\u001B[0m \u001B[38;5;28;01mfrom\u001B[39;00m \u001B[38;5;21;01mvespa\u001B[39;00m\u001B[38;5;21;01m.\u001B[39;00m\u001B[38;5;21;01mio\u001B[39;00m \u001B[38;5;28;01mimport\u001B[39;00m VespaResponse, VespaQueryResponse\n",
      "File \u001B[0;32m~/Downloads/tmbd_process/.venv/lib/python3.8/site-packages/vespa/application.py:35\u001B[0m\n\u001B[1;32m     33\u001B[0m \u001B[38;5;28;01mfrom\u001B[39;00m \u001B[38;5;21;01mvespa\u001B[39;00m\u001B[38;5;21;01m.\u001B[39;00m\u001B[38;5;21;01mexceptions\u001B[39;00m \u001B[38;5;28;01mimport\u001B[39;00m VespaError\n\u001B[1;32m     34\u001B[0m \u001B[38;5;28;01mfrom\u001B[39;00m \u001B[38;5;21;01mvespa\u001B[39;00m\u001B[38;5;21;01m.\u001B[39;00m\u001B[38;5;21;01mio\u001B[39;00m \u001B[38;5;28;01mimport\u001B[39;00m VespaQueryResponse, VespaResponse, VespaVisitResponse\n\u001B[0;32m---> 35\u001B[0m \u001B[38;5;28;01mfrom\u001B[39;00m \u001B[38;5;21;01mvespa\u001B[39;00m\u001B[38;5;21;01m.\u001B[39;00m\u001B[38;5;21;01mpackage\u001B[39;00m \u001B[38;5;28;01mimport\u001B[39;00m ApplicationPackage\n\u001B[1;32m     36\u001B[0m \u001B[38;5;28;01mimport\u001B[39;00m \u001B[38;5;21;01mhttpx\u001B[39;00m\n\u001B[1;32m     37\u001B[0m \u001B[38;5;28;01mimport\u001B[39;00m \u001B[38;5;21;01mvespa\u001B[39;00m\n",
      "File \u001B[0;32m~/Downloads/tmbd_process/.venv/lib/python3.8/site-packages/vespa/package.py:18\u001B[0m\n\u001B[1;32m     16\u001B[0m \u001B[38;5;28;01mfrom\u001B[39;00m \u001B[38;5;21;01mjinja2\u001B[39;00m \u001B[38;5;28;01mimport\u001B[39;00m Environment, PackageLoader, select_autoescape\n\u001B[1;32m     17\u001B[0m \u001B[38;5;28;01mfrom\u001B[39;00m \u001B[38;5;21;01mvespa\u001B[39;00m\u001B[38;5;21;01m.\u001B[39;00m\u001B[38;5;21;01mconfiguration\u001B[39;00m\u001B[38;5;21;01m.\u001B[39;00m\u001B[38;5;21;01mvt\u001B[39;00m \u001B[38;5;28;01mimport\u001B[39;00m Xml, vt\n\u001B[0;32m---> 18\u001B[0m \u001B[38;5;28;01mfrom\u001B[39;00m \u001B[38;5;21;01mvespa\u001B[39;00m\u001B[38;5;21;01m.\u001B[39;00m\u001B[38;5;21;01mconfiguration\u001B[39;00m\u001B[38;5;21;01m.\u001B[39;00m\u001B[38;5;21;01mservices\u001B[39;00m \u001B[38;5;28;01mimport\u001B[39;00m services\n\u001B[1;32m     19\u001B[0m \u001B[38;5;28;01mfrom\u001B[39;00m \u001B[38;5;21;01mvespa\u001B[39;00m\u001B[38;5;21;01m.\u001B[39;00m\u001B[38;5;21;01mconfiguration\u001B[39;00m\u001B[38;5;21;01m.\u001B[39;00m\u001B[38;5;21;01mservices\u001B[39;00m \u001B[38;5;28;01mimport\u001B[39;00m \u001B[38;5;241m*\u001B[39m\n\u001B[1;32m     21\u001B[0m \u001B[38;5;28;01mif\u001B[39;00m sys\u001B[38;5;241m.\u001B[39mversion_info \u001B[38;5;241m>\u001B[39m\u001B[38;5;241m=\u001B[39m (\u001B[38;5;241m3\u001B[39m, \u001B[38;5;241m11\u001B[39m):\n",
      "File \u001B[0;32m~/Downloads/tmbd_process/.venv/lib/python3.8/site-packages/vespa/configuration/services.py:2\u001B[0m\n\u001B[1;32m      1\u001B[0m \u001B[38;5;28;01mfrom\u001B[39;00m \u001B[38;5;21;01mvespa\u001B[39;00m\u001B[38;5;21;01m.\u001B[39;00m\u001B[38;5;21;01mconfiguration\u001B[39;00m\u001B[38;5;21;01m.\u001B[39;00m\u001B[38;5;21;01mvt\u001B[39;00m \u001B[38;5;28;01mimport\u001B[39;00m VT, create_tag_function, voids\n\u001B[0;32m----> 2\u001B[0m \u001B[38;5;28;01mfrom\u001B[39;00m \u001B[38;5;21;01mvespa\u001B[39;00m\u001B[38;5;21;01m.\u001B[39;00m\u001B[38;5;21;01mconfiguration\u001B[39;00m\u001B[38;5;21;01m.\u001B[39;00m\u001B[38;5;21;01mrelaxng\u001B[39;00m \u001B[38;5;28;01mimport\u001B[39;00m RELAXNG\n\u001B[1;32m      3\u001B[0m \u001B[38;5;28;01mfrom\u001B[39;00m \u001B[38;5;21;01mlxml\u001B[39;00m \u001B[38;5;28;01mimport\u001B[39;00m etree\n\u001B[1;32m      4\u001B[0m \u001B[38;5;28;01mfrom\u001B[39;00m \u001B[38;5;21;01mpathlib\u001B[39;00m \u001B[38;5;28;01mimport\u001B[39;00m Path\n",
      "File \u001B[0;32m~/Downloads/tmbd_process/.venv/lib/python3.8/site-packages/vespa/configuration/relaxng/__init__.py:3\u001B[0m\n\u001B[1;32m      1\u001B[0m \u001B[38;5;28;01mfrom\u001B[39;00m \u001B[38;5;21;01mpathlib\u001B[39;00m \u001B[38;5;28;01mimport\u001B[39;00m Path\n\u001B[1;32m      2\u001B[0m \u001B[38;5;28;01mimport\u001B[39;00m \u001B[38;5;21;01mos\u001B[39;00m\n\u001B[0;32m----> 3\u001B[0m \u001B[38;5;28;01mfrom\u001B[39;00m \u001B[38;5;21;01mlxml\u001B[39;00m \u001B[38;5;28;01mimport\u001B[39;00m etree\n\u001B[1;32m      5\u001B[0m \u001B[38;5;66;03m# Dict of filename (without extension) to RELAXNG schema (open(rb))\u001B[39;00m\n\u001B[1;32m      6\u001B[0m RELAXNG \u001B[38;5;241m=\u001B[39m {}\n",
      "\u001B[0;31mImportError\u001B[0m: dlopen(/Users/mrcyrilgoud/Downloads/tmbd_process/.venv/lib/python3.8/site-packages/lxml/etree.cpython-38-darwin.so, 0x0002): Library not loaded: @rpath/libxslt.1.dylib\n  Referenced from: <360AD13F-EECC-3A60-BD24-7DA0864319BE> /Users/mrcyrilgoud/Downloads/tmbd_process/.venv/lib/python3.8/site-packages/lxml/etree.cpython-38-darwin.so\n  Reason: no LC_RPATH's found"
     ]
    }
   ],
   "execution_count": 3
  },
  {
   "cell_type": "code",
   "id": "initial_id",
   "metadata": {
    "collapsed": true,
    "ExecuteTime": {
     "start_time": "2024-11-07T22:46:25.628838Z"
    }
   },
   "source": [
    "\n",
    "\n",
    "\n",
    "\n",
    "def display_hits_as_df(response: VespaQueryResponse, fields) -> pd.DataFrame:\n",
    "    records = []\n",
    "    for hit in response.hits:\n",
    "        record = {}\n",
    "        for field in fields:\n",
    "            record[field] = hit[\"fields\"][field]\n",
    "        records.append(record)\n",
    "    return pd.DataFrame(records)\n",
    "\n",
    "\n",
    "def keyword_search(app, search_query):\n",
    "    query = {\n",
    "        \"yql\": \"select * from sources * where userQuery() limit 5\",\n",
    "        \"query\": search_query,\n",
    "        \"ranking\": \"bm25\",\n",
    "    }\n",
    "    response = app.query(query)\n",
    "    return display_hits_as_df(response, [\"doc_id\", \"title\"])\n",
    "\n",
    "\n",
    "def semantic_search(app, query):\n",
    "    query = {\n",
    "        \"yql\": \"select * from sources * where ({targetHits:100}nearestNeighbor(embedding,e)) limit 5\",\n",
    "        \"query\": query,\n",
    "        \"ranking\": \"semantic\",\n",
    "        \"input.query(e)\": \"embed(@query)\"\n",
    "    }\n",
    "    response = app.query(query)\n",
    "    return display_hits_as_df(response, [\"doc_id\", \"title\"])\n",
    "\n",
    "\n",
    "def get_embedding(doc_id):\n",
    "    query = {\n",
    "        \"yql\" : f\"select doc_id, title, text, embedding from content.doc where doc_id contains '{doc_id}'\",\n",
    "        \"hits\": 1\n",
    "    }\n",
    "    result = app.query(query)\n",
    "    \n",
    "    if result.hits:\n",
    "        return result.hits[0]\n",
    "    return None\n",
    "\n",
    "\n",
    "def query_movies_by_embedding(embedding_vector):\n",
    "    query = {\n",
    "        'hits': 5,\n",
    "        'yql': 'select * from content.doc where ({targetHits:5}nearestNeighbor(embedding, user_embedding))',\n",
    "        'ranking.features.query(user_embedding)': str(embedding_vector),\n",
    "        'ranking.profile': 'recommendation'\n",
    "    }\n",
    "    return app.query(query)\n",
    "\n",
    "app = Vespa(url=\"http://localhost\", port=8080)\n",
    "\n",
    "query = \"Harry Potter and the Half-Blood Prince\"\n",
    "\n",
    "df = keyword_search(app, query)\n",
    "print(df.head())\n",
    "\n",
    "df = semantic_search(app, query)\n",
    "print(df.head())\n",
    "\n",
    "emb = get_embedding(\"767\")\n",
    "results = query_movies_by_embedding(emb[\"fields\"][\"embedding\"])\n",
    "df = display_hits_as_df(results, [\"doc_id\", \"title\", \"text\"])\n",
    "print(df.head())\n"
   ],
   "outputs": [
    {
     "ename": "NameError",
     "evalue": "name 'VespaQueryResponse' is not defined",
     "output_type": "error",
     "traceback": [
      "\u001B[0;31m---------------------------------------------------------------------------\u001B[0m",
      "\u001B[0;31mNameError\u001B[0m                                 Traceback (most recent call last)",
      "Cell \u001B[0;32mIn[4], line 1\u001B[0m\n\u001B[0;32m----> 1\u001B[0m \u001B[38;5;28;01mdef\u001B[39;00m \u001B[38;5;21mdisplay_hits_as_df\u001B[39m(response: \u001B[43mVespaQueryResponse\u001B[49m, fields) \u001B[38;5;241m-\u001B[39m\u001B[38;5;241m>\u001B[39m pd\u001B[38;5;241m.\u001B[39mDataFrame:\n\u001B[1;32m      2\u001B[0m     records \u001B[38;5;241m=\u001B[39m []\n\u001B[1;32m      3\u001B[0m     \u001B[38;5;28;01mfor\u001B[39;00m hit \u001B[38;5;129;01min\u001B[39;00m response\u001B[38;5;241m.\u001B[39mhits:\n",
      "\u001B[0;31mNameError\u001B[0m: name 'VespaQueryResponse' is not defined"
     ]
    }
   ],
   "execution_count": 4
  },
  {
   "metadata": {},
   "cell_type": "code",
   "outputs": [],
   "execution_count": null,
   "source": "",
   "id": "4c4c6676efb1f2cc"
  }
 ],
 "metadata": {
  "kernelspec": {
   "display_name": "Python 3",
   "language": "python",
   "name": "python3"
  },
  "language_info": {
   "codemirror_mode": {
    "name": "ipython",
    "version": 2
   },
   "file_extension": ".py",
   "mimetype": "text/x-python",
   "name": "python",
   "nbconvert_exporter": "python",
   "pygments_lexer": "ipython2",
   "version": "2.7.6"
  }
 },
 "nbformat": 4,
 "nbformat_minor": 5
}
